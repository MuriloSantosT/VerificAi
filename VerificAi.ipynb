{
  "nbformat": 4,
  "nbformat_minor": 0,
  "metadata": {
    "colab": {
      "provenance": []
    },
    "kernelspec": {
      "name": "python3",
      "display_name": "Python 3"
    },
    "language_info": {
      "name": "python"
    }
  },
  "cells": [
    {
      "cell_type": "markdown",
      "source": [
        "# 🔎 VerificAI - Uma IA de suporte e análise de currículos!"
      ],
      "metadata": {
        "id": "FQpevcbxkKsw"
      }
    },
    {
      "cell_type": "markdown",
      "source": [
        "## Instalações, importações e requisições necessárias para a execução correta do programa."
      ],
      "metadata": {
        "id": "-BZAHlbP3I_A"
      }
    },
    {
      "cell_type": "code",
      "execution_count": 21,
      "metadata": {
        "colab": {
          "base_uri": "https://localhost:8080/"
        },
        "collapsed": true,
        "id": "XCbw-BiDbSVj",
        "outputId": "430e29fe-7afe-478a-fd5c-aeac40175e5c"
      },
      "outputs": [
        {
          "output_type": "stream",
          "name": "stdout",
          "text": [
            "Requirement already satisfied: PyPDF2 in /usr/local/lib/python3.11/dist-packages (3.0.1)\n"
          ]
        }
      ],
      "source": [
        "%pip -q install google-generativeai\n",
        "%pip -q install google-adk\n",
        "!pip install PyPDF2\n",
        "\n",
        "import os\n",
        "import sys\n",
        "from google.colab import files, userdata\n",
        "import PyPDF2\n",
        "from google import genai\n",
        "from IPython.display import display, Markdown\n",
        "from google.adk.agents import Agent\n",
        "from google.adk.runners import Runner\n",
        "from google.adk.sessions import InMemorySessionService\n",
        "from google.adk.tools import google_search\n",
        "from google.genai import types\n",
        "from datetime import date\n",
        "import textwrap\n",
        "\n",
        "os.environ[\"GOOGLE_API_KEY\"] = userdata.get(\"GOOGLE_API_KEY\")"
      ]
    },
    {
      "cell_type": "markdown",
      "source": [
        "Conexão agente - parâmetro"
      ],
      "metadata": {
        "id": "bHbyTyFm4Kgg"
      }
    },
    {
      "cell_type": "code",
      "source": [
        "def call_agent(agent: Agent, message_text: str) -> str:\n",
        "    session_service = InMemorySessionService()\n",
        "    session = session_service.create_session(app_name=agent.name, user_id=\"user1\", session_id=\"session1\")\n",
        "    runner = Runner(agent=agent, app_name=agent.name, session_service=session_service)\n",
        "    content = types.Content(role=\"user\", parts=[types.Part(text=message_text)])\n",
        "    final_response = \"\"\n",
        "    for event in runner.run(user_id=\"user1\", session_id=\"session1\", new_message=content):\n",
        "        if event.is_final_response():\n",
        "            for part in event.content.parts:\n",
        "                if part.text:\n",
        "                    final_response += part.text + \"\\n\"\n",
        "    return final_response.strip()\n"
      ],
      "metadata": {
        "id": "rVMBG0vgkwte"
      },
      "execution_count": 22,
      "outputs": []
    },
    {
      "cell_type": "code",
      "source": [
        "def to_markdown(text):\n",
        "    text = text.replace('•', '  *')\n",
        "    return Markdown(textwrap.indent(text, '> ', predicate=lambda _: True))"
      ],
      "metadata": {
        "id": "kEV_DxShyoAw"
      },
      "execution_count": 23,
      "outputs": []
    },
    {
      "cell_type": "markdown",
      "source": [
        "Definições dos agentes e suas respectivas *características*"
      ],
      "metadata": {
        "id": "by7ytVb94Pg4"
      }
    },
    {
      "cell_type": "code",
      "source": [
        "def agente_avaliador(curriculo_extraido: str):\n",
        "    avaliador = Agent(\n",
        "        name=\"agente_avaliador\",\n",
        "        model=\"gemini-2.0-flash\",\n",
        "        instruction=\"\"\"\n",
        "        Você é um especialista sênior em Recursos Humanos, com vasta experiência em avaliação de currículos.\n",
        "        Sua tarefa é analisar o conteúdo abaixo de forma crítica e construtiva.\n",
        "\n",
        "        Siga as diretrizes a seguir:\n",
        "\n",
        "        1. Identifique e destaque os principais pontos fortes do candidato, incluindo habilidades técnicas, experiências relevantes e conquistas notáveis.\n",
        "        2. Aponte de forma clara e respeitosa os aspectos que podem ser aprimorados, como organização, clareza, formatação, uso de palavras-chave ou linguagem profissional.\n",
        "        3. Mantenha uma abordagem objetiva, profissional e direta. Não há necessidade de cumprimento.\n",
        "\n",
        "        Evite generalizações. Foque em observações específicas e úteis que realmente possam ajudar o candidato a melhorar seu currículo.\n",
        "        \"\"\",\n",
        "        description=\"Agente que avalia currículos criticamente.\"\n",
        "    )\n",
        "    entrada = f\"Currículo:\\n{curriculo_extraido}\"\n",
        "    return call_agent(avaliador, entrada)"
      ],
      "metadata": {
        "id": "toDUDzVfyqTn"
      },
      "execution_count": 35,
      "outputs": []
    },
    {
      "cell_type": "code",
      "source": [
        "def agente_otimizador(curriculo_extraido: str):\n",
        "    otimizador = Agent(\n",
        "        name=\"agente_otimizador\",\n",
        "        model=\"gemini-2.0-flash\",\n",
        "        instruction=\"\"\"\n",
        "        Você é um especialista em revisão e otimização de currículos, com ampla experiência em Recursos Humanos e comunicação profissional.\n",
        "\n",
        "        Revise o conteúdo abaixo com o objetivo de torná-lo mais claro, direto e impactante. Faça os seguintes ajustes:\n",
        "        - Corrija erros gramaticais, ortográficos e de pontuação.\n",
        "        - Reescreva trechos confusos ou ambíguos, aprimorando a fluidez do texto.\n",
        "        - Adote uma linguagem profissional e assertiva, adequada ao contexto de um currículo competitivo.\n",
        "        - Mantenha as informações relevantes, destacando conquistas, competências e experiências de forma estratégica.\n",
        "\n",
        "        O texto resultante deve transmitir profissionalismo, credibilidade e destacar o potencial do candidato.\n",
        "        \"\"\",\n",
        "        description=\"Agente otimizador de currículo\"\n",
        "    )\n",
        "    entrada = f\"Currículo:\\n{curriculo_extraido}\"\n",
        "    return call_agent(otimizador, entrada)"
      ],
      "metadata": {
        "id": "VQo5Wx2hytMf"
      },
      "execution_count": 36,
      "outputs": []
    },
    {
      "cell_type": "code",
      "source": [
        "def agente_carta(curriculo_otimizado: str):\n",
        "    redator = Agent(\n",
        "        name=\"agente_carta\",\n",
        "        model=\"gemini-2.0-flash\",\n",
        "        instruction=\"\"\"\n",
        "        Você é um redator profissional especializado na criação de cartas de apresentação impactantes e bem estruturadas.\n",
        "\n",
        "        Com base no currículo fornecido, redija uma carta de apresentação em português com linguagem formal e objetiva. Destaque os principais pontos fortes do candidato, como experiências relevantes, habilidades técnicas e comportamentais, conquistas e diferenciais que o tornem atrativo para o mercado de trabalho.\n",
        "\n",
        "        Adapte o tom para ser compatível com o perfil do profissional (júnior, pleno ou sênior) e enfatize como ele pode contribuir para a empresa ou vaga desejada.\n",
        "\n",
        "        A carta deve transmitir confiança, profissionalismo e clareza, com uma estrutura lógica e persuasiva.\n",
        "        \"\"\",\n",
        "        description=\"Agente que gera carta de apresentação\"\n",
        "    )\n",
        "    entrada = f\"Currículo:\\n{curriculo_otimizado}\"\n",
        "    return call_agent(redator, entrada)"
      ],
      "metadata": {
        "id": "lJ9FOI2uywG3"
      },
      "execution_count": 37,
      "outputs": []
    },
    {
      "cell_type": "code",
      "source": [
        "def agente_recomendador(curriculo_otimizado: str):\n",
        "    recomendador = Agent(\n",
        "        name=\"agente_recomendador\",\n",
        "        model=\"gemini-2.0-flash\",\n",
        "        instruction=\"\"\"\n",
        "        Você é um mentor de carreira experiente, especializado em orientar profissionais em busca de crescimento e evolução.\n",
        "\n",
        "        Com base no currículo apresentado, analise o perfil do candidato e forneça recomendações personalizadas para os próximos passos no desenvolvimento profissional, incluindo:\n",
        "\n",
        "        - Habilidades técnicas e comportamentais que devem ser aprimoradas ou adquiridas.\n",
        "        - Ferramentas, softwares ou metodologias relevantes que o candidato deve aprender para se destacar na área.\n",
        "        - Tipos de projetos ou experiências práticas que podem fortalecer o currículo.\n",
        "        - Recursos úteis para o aprendizado contínuo, como cursos (gratuitos ou pagos), livros, sites, comunidades ou certificações reconhecidas.\n",
        "\n",
        "        Seja estratégico, direto e contextualize as sugestões com base no nível atual do candidato, sempre visando um avanço real e aplicável no mercado de trabalho.\n",
        "        \"\"\",\n",
        "        description=\"Agente de carreira para próximos passos\"\n",
        "    )\n",
        "    entrada = f\"Currículo:\\n{curriculo_otimizado}\"\n",
        "    return call_agent(recomendador, entrada)"
      ],
      "metadata": {
        "id": "AbOP3RPRy0O_"
      },
      "execution_count": 38,
      "outputs": []
    },
    {
      "cell_type": "markdown",
      "source": [
        "Execução principal"
      ],
      "metadata": {
        "id": "nbsaNEZl4ZaA"
      }
    },
    {
      "cell_type": "code",
      "source": [
        "uploaded = files.upload()\n",
        "file_name = list(uploaded.keys())[0]\n",
        "\n",
        "if not file_name.lower().endswith(\".pdf\"):\n",
        "    display(Markdown(\"⚠️ **O arquivo enviado não é um PDF. Por favor, envie um arquivo com extensão `.pdf`.**\"))\n",
        "    sys.exit()\n",
        "\n",
        "try:\n",
        "    with open(file_name, 'rb') as pdf:\n",
        "        reader = PyPDF2.PdfReader(pdf)\n",
        "        curriculo_extraido = \"\\n\".join([page.extract_text() or \"\" for page in reader.pages])\n",
        "except Exception as e:\n",
        "    display(Markdown(f\"❌ **Erro ao ler o arquivo PDF. Verifique se ele está corrompido ou é um PDF válido.**\"))\n",
        "    sys.exit()\n",
        "\n",
        "\n",
        "print(\"🚀 Iniciando análise com os agentes da VerificAI...\\n\")\n",
        "\n",
        "avaliacao = agente_avaliador(curriculo_extraido)\n",
        "display(Markdown(\"## 📊 Avaliação Crítica\"))\n",
        "display(to_markdown(avaliacao))\n",
        "\n",
        "otimizado = agente_otimizador(curriculo_extraido)\n",
        "display(Markdown(\"## 📄 Currículo Otimizado\"))\n",
        "display(to_markdown(otimizado))\n",
        "\n",
        "carta = agente_carta(otimizado)\n",
        "display(Markdown(\"## ✉️ Carta de Apresentação\"))\n",
        "display(to_markdown(carta))\n",
        "\n",
        "recomendacoes = agente_recomendador(otimizado)\n",
        "display(Markdown(\"## 🧭 Próximos Passos\"))\n",
        "display(to_markdown(recomendacoes))\n",
        "\n",
        "print(\"\\n✅ Análise finalizada com sucesso!\")\n"
      ],
      "metadata": {
        "colab": {
          "base_uri": "https://localhost:8080/",
          "height": 1000
        },
        "id": "-ns5EHpPy2n_",
        "outputId": "6ac025fb-c8bb-4fd2-d8fc-f7d65244f2cd"
      },
      "execution_count": 39,
      "outputs": [
        {
          "output_type": "display_data",
          "data": {
            "text/plain": [
              "<IPython.core.display.HTML object>"
            ],
            "text/html": [
              "\n",
              "     <input type=\"file\" id=\"files-7bd898fa-4083-44fe-9a32-128a6db737bf\" name=\"files[]\" multiple disabled\n",
              "        style=\"border:none\" />\n",
              "     <output id=\"result-7bd898fa-4083-44fe-9a32-128a6db737bf\">\n",
              "      Upload widget is only available when the cell has been executed in the\n",
              "      current browser session. Please rerun this cell to enable.\n",
              "      </output>\n",
              "      <script>// Copyright 2017 Google LLC\n",
              "//\n",
              "// Licensed under the Apache License, Version 2.0 (the \"License\");\n",
              "// you may not use this file except in compliance with the License.\n",
              "// You may obtain a copy of the License at\n",
              "//\n",
              "//      http://www.apache.org/licenses/LICENSE-2.0\n",
              "//\n",
              "// Unless required by applicable law or agreed to in writing, software\n",
              "// distributed under the License is distributed on an \"AS IS\" BASIS,\n",
              "// WITHOUT WARRANTIES OR CONDITIONS OF ANY KIND, either express or implied.\n",
              "// See the License for the specific language governing permissions and\n",
              "// limitations under the License.\n",
              "\n",
              "/**\n",
              " * @fileoverview Helpers for google.colab Python module.\n",
              " */\n",
              "(function(scope) {\n",
              "function span(text, styleAttributes = {}) {\n",
              "  const element = document.createElement('span');\n",
              "  element.textContent = text;\n",
              "  for (const key of Object.keys(styleAttributes)) {\n",
              "    element.style[key] = styleAttributes[key];\n",
              "  }\n",
              "  return element;\n",
              "}\n",
              "\n",
              "// Max number of bytes which will be uploaded at a time.\n",
              "const MAX_PAYLOAD_SIZE = 100 * 1024;\n",
              "\n",
              "function _uploadFiles(inputId, outputId) {\n",
              "  const steps = uploadFilesStep(inputId, outputId);\n",
              "  const outputElement = document.getElementById(outputId);\n",
              "  // Cache steps on the outputElement to make it available for the next call\n",
              "  // to uploadFilesContinue from Python.\n",
              "  outputElement.steps = steps;\n",
              "\n",
              "  return _uploadFilesContinue(outputId);\n",
              "}\n",
              "\n",
              "// This is roughly an async generator (not supported in the browser yet),\n",
              "// where there are multiple asynchronous steps and the Python side is going\n",
              "// to poll for completion of each step.\n",
              "// This uses a Promise to block the python side on completion of each step,\n",
              "// then passes the result of the previous step as the input to the next step.\n",
              "function _uploadFilesContinue(outputId) {\n",
              "  const outputElement = document.getElementById(outputId);\n",
              "  const steps = outputElement.steps;\n",
              "\n",
              "  const next = steps.next(outputElement.lastPromiseValue);\n",
              "  return Promise.resolve(next.value.promise).then((value) => {\n",
              "    // Cache the last promise value to make it available to the next\n",
              "    // step of the generator.\n",
              "    outputElement.lastPromiseValue = value;\n",
              "    return next.value.response;\n",
              "  });\n",
              "}\n",
              "\n",
              "/**\n",
              " * Generator function which is called between each async step of the upload\n",
              " * process.\n",
              " * @param {string} inputId Element ID of the input file picker element.\n",
              " * @param {string} outputId Element ID of the output display.\n",
              " * @return {!Iterable<!Object>} Iterable of next steps.\n",
              " */\n",
              "function* uploadFilesStep(inputId, outputId) {\n",
              "  const inputElement = document.getElementById(inputId);\n",
              "  inputElement.disabled = false;\n",
              "\n",
              "  const outputElement = document.getElementById(outputId);\n",
              "  outputElement.innerHTML = '';\n",
              "\n",
              "  const pickedPromise = new Promise((resolve) => {\n",
              "    inputElement.addEventListener('change', (e) => {\n",
              "      resolve(e.target.files);\n",
              "    });\n",
              "  });\n",
              "\n",
              "  const cancel = document.createElement('button');\n",
              "  inputElement.parentElement.appendChild(cancel);\n",
              "  cancel.textContent = 'Cancel upload';\n",
              "  const cancelPromise = new Promise((resolve) => {\n",
              "    cancel.onclick = () => {\n",
              "      resolve(null);\n",
              "    };\n",
              "  });\n",
              "\n",
              "  // Wait for the user to pick the files.\n",
              "  const files = yield {\n",
              "    promise: Promise.race([pickedPromise, cancelPromise]),\n",
              "    response: {\n",
              "      action: 'starting',\n",
              "    }\n",
              "  };\n",
              "\n",
              "  cancel.remove();\n",
              "\n",
              "  // Disable the input element since further picks are not allowed.\n",
              "  inputElement.disabled = true;\n",
              "\n",
              "  if (!files) {\n",
              "    return {\n",
              "      response: {\n",
              "        action: 'complete',\n",
              "      }\n",
              "    };\n",
              "  }\n",
              "\n",
              "  for (const file of files) {\n",
              "    const li = document.createElement('li');\n",
              "    li.append(span(file.name, {fontWeight: 'bold'}));\n",
              "    li.append(span(\n",
              "        `(${file.type || 'n/a'}) - ${file.size} bytes, ` +\n",
              "        `last modified: ${\n",
              "            file.lastModifiedDate ? file.lastModifiedDate.toLocaleDateString() :\n",
              "                                    'n/a'} - `));\n",
              "    const percent = span('0% done');\n",
              "    li.appendChild(percent);\n",
              "\n",
              "    outputElement.appendChild(li);\n",
              "\n",
              "    const fileDataPromise = new Promise((resolve) => {\n",
              "      const reader = new FileReader();\n",
              "      reader.onload = (e) => {\n",
              "        resolve(e.target.result);\n",
              "      };\n",
              "      reader.readAsArrayBuffer(file);\n",
              "    });\n",
              "    // Wait for the data to be ready.\n",
              "    let fileData = yield {\n",
              "      promise: fileDataPromise,\n",
              "      response: {\n",
              "        action: 'continue',\n",
              "      }\n",
              "    };\n",
              "\n",
              "    // Use a chunked sending to avoid message size limits. See b/62115660.\n",
              "    let position = 0;\n",
              "    do {\n",
              "      const length = Math.min(fileData.byteLength - position, MAX_PAYLOAD_SIZE);\n",
              "      const chunk = new Uint8Array(fileData, position, length);\n",
              "      position += length;\n",
              "\n",
              "      const base64 = btoa(String.fromCharCode.apply(null, chunk));\n",
              "      yield {\n",
              "        response: {\n",
              "          action: 'append',\n",
              "          file: file.name,\n",
              "          data: base64,\n",
              "        },\n",
              "      };\n",
              "\n",
              "      let percentDone = fileData.byteLength === 0 ?\n",
              "          100 :\n",
              "          Math.round((position / fileData.byteLength) * 100);\n",
              "      percent.textContent = `${percentDone}% done`;\n",
              "\n",
              "    } while (position < fileData.byteLength);\n",
              "  }\n",
              "\n",
              "  // All done.\n",
              "  yield {\n",
              "    response: {\n",
              "      action: 'complete',\n",
              "    }\n",
              "  };\n",
              "}\n",
              "\n",
              "scope.google = scope.google || {};\n",
              "scope.google.colab = scope.google.colab || {};\n",
              "scope.google.colab._files = {\n",
              "  _uploadFiles,\n",
              "  _uploadFilesContinue,\n",
              "};\n",
              "})(self);\n",
              "</script> "
            ]
          },
          "metadata": {}
        },
        {
          "output_type": "stream",
          "name": "stdout",
          "text": [
            "Saving MuriloSantos (2).pdf to MuriloSantos (2) (6).pdf\n",
            "🚀 Iniciando análise com os agentes da VerificAI...\n",
            "\n"
          ]
        },
        {
          "output_type": "display_data",
          "data": {
            "text/plain": [
              "<IPython.core.display.Markdown object>"
            ],
            "text/markdown": "## 📊 Avaliação Crítica"
          },
          "metadata": {}
        },
        {
          "output_type": "display_data",
          "data": {
            "text/plain": [
              "<IPython.core.display.Markdown object>"
            ],
            "text/markdown": "> ## Análise do Currículo de Murilo Santos\n> \n> **Pontos Fortes:**\n> \n> *   **Objetivo Profissional:** Bem definido e alinhado com a busca por oportunidades de estágio na área de tecnologia. Demonstra proatividade e vontade de aprender.\n> *   **Formação Acadêmica:**\n>     *   Cursando tecnólogo em Análise e Desenvolvimento de Sistemas (FATEC Campinas) demonstra o foco na área.\n>     *   O técnico em Informática para Internet (ETEC) complementa a formação, mostrando uma base sólida.\n> *   **Atividades Extracurriculares:** Demonstra engajamento em atividades voluntárias, o que é um ponto positivo. As funções descritas indicam habilidades de comunicação, organização e trabalho em equipe.\n> *   **Habilidades Técnicas:**\n>     *   Bom conhecimento em diversas linguagens de programação (C#, Javascript, Python, Java, SQL)\n>     *   Inglês intermediário é relevante para a área de tecnologia.\n> *   **Certificações:**\n>     *   Apresenta diversas certificações relevantes, demonstrando iniciativa em aprimorar seus conhecimentos.\n> *   **Soft Skills:** Menciona soft skills importantes como resiliência, diligência, interesse e empatia.\n> *   **Link para o GitHub:** Incluir o link para o GitHub é fundamental para que os recrutadores possam avaliar seus projetos e código.\n> \n> **Pontos a serem aprimorados:**\n> \n> *   **Formatação e Organização:**\n>     *   A formatação do currículo precisa ser revisada. Há quebras de linha estranhas (ex: \"Telefone:\" no início) e falta de padronização na apresentação das informações.\n>     *   A seção de \"Atividades Extracurriculares\" poderia ser renomeada para \"Experiência Voluntária\" para melhor compreensão.\n> *   **Detalhes das Experiências:**\n>     *   Na experiência como voluntário na \"Nanna Salgados\", seria interessante detalhar as ferramentas e tecnologias utilizadas na confecção de criativos e no gerenciamento de tráfego pago.\n>     *   Na experiência na igreja, especifique quais ferramentas foram utilizadas para o gerenciamento das planilhas de dados.\n> *   **Habilidades:**\n>     *   Em vez de apenas listar as linguagens, tente especificar o nível de proficiência em cada uma (ex: \"Javascript (React) - Nível intermediário\").\n> *   **Soft Skills:**\n>     *   Em vez de apenas listar as soft skills, considere dar exemplos de como você as aplicou em situações reais (ex: \"Resiliência: Superei desafios em projetos acadêmicos ao persistir na busca por soluções...\").\n> *   **Revisão Geral:**\n>     *   Revise a ortografia e gramática do currículo com atenção.\n> \n> **Sugestões Adicionais:**\n> \n> *   **Palavras-chave:** Analise descrições de vagas de estágio que te interessam e incorpore as palavras-chave relevantes no seu currículo (ex: \"Metodologias ágeis\", \"Scrum\", \"Testes unitários\").\n> *   **Formato do arquivo:** Salve o currículo em formato PDF para garantir que a formatação seja mantida.\n> *   **Foto:** A inclusão de uma foto é opcional, mas pode ajudar a criar uma conexão visual com o recrutador. Se optar por incluir, utilize uma foto profissional.\n> \n> Ao implementar essas melhorias, Murilo poderá criar um currículo mais atraente e eficaz para as oportunidades de estágio que busca."
          },
          "metadata": {}
        },
        {
          "output_type": "display_data",
          "data": {
            "text/plain": [
              "<IPython.core.display.Markdown object>"
            ],
            "text/markdown": "## 📄 Currículo Otimizado"
          },
          "metadata": {}
        },
        {
          "output_type": "display_data",
          "data": {
            "text/plain": [
              "<IPython.core.display.Markdown object>"
            ],
            "text/markdown": "> **MURILO SANTOS**\n> (19) 99900-1103 | murilosantosfvg@gmail.com | R. Carlos Roberto Ianses, 191 - Vinhedo\n> \n> **OBJETIVO**\n> \n> Estudante de Análise e Desenvolvimento de Sistemas em busca de oportunidade de estágio para aplicar e aprimorar habilidades técnicas em projetos desafiadores. Dedicado ao aprendizado contínuo e à contribuição proativa para o sucesso da equipe.\n> \n> **FORMAÇÃO ACADÊMICA**\n> \n> *   **Tecnólogo em Análise e Desenvolvimento de Sistemas** | FATEC Campinas | 2023 - Presente\n> *   **Técnico em Informática para Internet** | ETEC Vasco Antônio Venchiarutti | 2020 - 2022\n> \n> **EXPERIÊNCIA VOLUNTÁRIA**\n> \n> *   **Nanna Salgados** | 2023 - Dez/24\n> \n>     *   Criação de materiais visuais para marketing digital.\n>     *   Gerenciamento de campanhas de tráfego pago.\n> *   **Igreja** | 2022 - Presente\n> \n>     *   Acolhimento de jovens.\n>     *   Gerenciamento de planilhas de dados e suporte na organização de eventos.\n>     *   Participação em programa de desenvolvimento de liderança.\n> \n> **HABILIDADES TÉCNICAS**\n> \n> *   **Linguagens de Programação:** C# (.NET), JavaScript (React), Python, Java, SQL\n> *   **Idiomas:** Português (Fluente), Inglês (Intermediário)\n> *   **Outras:** Versionamento Git\n> \n> **CERTIFICAÇÕES**\n> \n> *   Oracle Java Foundations | Janeiro de 2025\n> *   Java e a arte da abstração | DIO | Fevereiro de 2025\n> *   9° Imersão Dev | Alura | Abril de 2025\n> *   Introdução ao .NET | DIO | Outubro de 2024\n> *   Versionamento Git | DIO | Outubro de 2024\n> *   Hardware Basics | CISCO | Maio de 2024\n> \n> **SOFT SKILLS**\n> \n> Resiliência | Diligência | Proatividade | Empatia\n> \n> **GITHUB**\n> \n> [https://github.com/MiragemS](https://github.com/MiragemS)"
          },
          "metadata": {}
        },
        {
          "output_type": "display_data",
          "data": {
            "text/plain": [
              "<IPython.core.display.Markdown object>"
            ],
            "text/markdown": "## ✉️ Carta de Apresentação"
          },
          "metadata": {}
        },
        {
          "output_type": "display_data",
          "data": {
            "text/plain": [
              "<IPython.core.display.Markdown object>"
            ],
            "text/markdown": "> [Seu Nome]\n> [Seu Endereço]\n> [Seu Telefone]\n> [Seu Email]\n> \n> [Data]\n> \n> [Nome do Recrutador ou Departamento de RH]\n> [Empresa]\n> [Endereço da Empresa]\n> \n> **Assunto: Candidatura para Estágio em Análise e Desenvolvimento de Sistemas**\n> \n> Prezados(as) Senhores(as),\n> \n> Escrevo para expressar meu grande interesse na oportunidade de estágio em Análise e Desenvolvimento de Sistemas em [Nome da Empresa]. Como estudante dedicado do curso de Tecnólogo em Análise e Desenvolvimento de Sistemas na FATEC Campinas, possuo uma base sólida em programação e um desejo genuíno de aplicar meus conhecimentos em projetos práticos e desafiadores.\n> \n> Durante minha formação técnica em Informática para Internet na ETEC Vasco Antônio Venchiarutti, adquiri habilidades essenciais em diversas linguagens de programação, como C# (.NET), JavaScript (React), Python, Java e SQL. Além disso, possuo experiência em versionamento Git, o que me permite trabalhar de forma colaborativa e eficiente em equipe.\n> \n> Minha experiência voluntária na Nanna Salgados demonstrou minha capacidade de criar materiais visuais impactantes para marketing digital e gerenciar campanhas de tráfego pago, evidenciando meu comprometimento com resultados e minha habilidade de aprendizado rápido. Adicionalmente, meu envolvimento na Igreja me proporcionou experiência em acolhimento de jovens, gerenciamento de planilhas de dados e suporte na organização de eventos, demonstrando minhas habilidades de organização, comunicação e liderança.\n> \n> Sou proativo, resiliente e tenho grande facilidade em aprender novas tecnologias. Acredito que minhas habilidades técnicas, combinadas com minhas qualidades comportamentais, me tornam um candidato ideal para contribuir de forma significativa com a equipe de [Nome da Empresa].\n> \n> Agradeço a atenção e coloco-me à disposição para uma entrevista, onde poderei detalhar minhas qualificações e demonstrar meu entusiasmo em fazer parte da equipe de vocês.\n> \n> Atenciosamente,\n> \n> Murilo Santos"
          },
          "metadata": {}
        },
        {
          "output_type": "display_data",
          "data": {
            "text/plain": [
              "<IPython.core.display.Markdown object>"
            ],
            "text/markdown": "## 🧭 Próximos Passos"
          },
          "metadata": {}
        },
        {
          "output_type": "display_data",
          "data": {
            "text/plain": [
              "<IPython.core.display.Markdown object>"
            ],
            "text/markdown": "> Murilo, seu currículo demonstra uma base sólida e proatividade, o que é ótimo para um estudante buscando estágio. Aqui estão algumas recomendações para você dar um upgrade na sua trajetória:\n> \n> **Habilidades Técnicas:**\n> \n> *   **Aprofunde-se em Front-end:** Você mencionou React, o que é excelente. Explore mais a fundo o ecossistema JavaScript, como Next.js ou frameworks de componentização (Styled Components, Material UI). Design responsivo (Mobile-First) também é uma habilidade valiosa.\n> *   **Back-end e APIs:** Já que você tem conhecimento em C#, Python e Java, escolha uma área para se especializar. Se optar por .NET, explore o ASP.NET Core para construção de APIs RESTful. Se for Python, Django ou Flask são ótimas opções.\n> *   **Banco de Dados:** SQL é fundamental, mas procure aprender sobre bancos de dados NoSQL (MongoDB, Cassandra) para ter um leque maior de opções.\n> *   **Cloud:** Familiarize-se com serviços de nuvem (AWS, Azure, Google Cloud). A capacidade de implantar e gerenciar aplicações na nuvem é um grande diferencial.\n> \n> **Ferramentas e Metodologias:**\n> \n> *   **DevOps:** Estude sobre Integração Contínua/Entrega Contínua (CI/CD) com ferramentas como Jenkins, GitLab CI ou GitHub Actions.\n> *   **Containers:** Docker e Kubernetes são cruciais para o desenvolvimento moderno. Aprenda a containerizar suas aplicações.\n> *   **Metodologias Ágeis:** Aprofunde seus conhecimentos em Scrum ou Kanban.\n> \n> **Projetos e Experiências Práticas:**\n> \n> *   **Projetos Pessoais:** Crie projetos mais ambiciosos para o seu portfólio no GitHub. Desenvolva uma aplicação web completa (front-end, back-end e banco de dados) que resolva um problema real.\n> *   **Contribuições Open Source:** Contribua para projetos open source relevantes. Isso demonstra suas habilidades e capacidade de trabalhar em equipe.\n> *   **Desafios de Código:** Participe de desafios de programação em plataformas como HackerRank ou LeetCode para aprimorar suas habilidades de resolução de problemas.\n> \n> **Recursos para Aprendizado Contínuo:**\n> \n> *   **Cursos:**\n>     *   **Udemy/Coursera:** Procure cursos específicos nas áreas que você deseja se aprofundar (ex: \"React Avançado\", \"API REST com .NET Core\").\n>     *   **Alura:** Explore os cursos de desenvolvimento web e back-end.\n>     *   **Rocketseat:** Oferece cursos intensivos e focados em tecnologias modernas.\n> *   **Livros:**\n>     *   \"Clean Code\" (Robert C. Martin): Melhora a qualidade do seu código.\n>     *   \"Design Patterns\" (Erich Gamma et al.): Essencial para arquitetura de software.\n> *   **Comunidades:**\n>     *   Participe de fóruns e grupos de discussão online (ex: Stack Overflow, comunidades no Discord ou Telegram).\n>     *   Vá a meetups e eventos de tecnologia na sua região.\n> *   **Certificações:**\n>     *   Além das que você já possui, considere certificações mais avançadas na área que você escolher se especializar (ex: AWS Certified Developer, Microsoft Certified Azure Developer).\n> \n> **Próximos Passos Estratégicos:**\n> \n> 1.  **Defina sua área de interesse:** Front-end, back-end, cloud, etc. Isso te ajudará a focar seus estudos.\n> 2.  **Crie um plano de aprendizado:** Liste as habilidades que você precisa desenvolver e os recursos que vai utilizar.\n> 3.  **Coloque em prática:** Desenvolva projetos pessoais para aplicar o que você está aprendendo.\n> 4.  **Networking:** Conecte-se com outros profissionais da área.\n> \n> Com dedicação e foco, você estará bem preparado para conseguir um estágio e construir uma carreira de sucesso na área de tecnologia."
          },
          "metadata": {}
        },
        {
          "output_type": "stream",
          "name": "stdout",
          "text": [
            "\n",
            "✅ Análise finalizada com sucesso!\n"
          ]
        }
      ]
    }
  ]
}