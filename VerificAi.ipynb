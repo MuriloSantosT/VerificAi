{
  "nbformat": 4,
  "nbformat_minor": 0,
  "metadata": {
    "colab": {
      "provenance": []
    },
    "kernelspec": {
      "name": "python3",
      "display_name": "Python 3"
    },
    "language_info": {
      "name": "python"
    }
  },
  "cells": [
    {
      "cell_type": "markdown",
      "source": [
        "# 🔎 VerificAI - Uma IA de suporte e análise de currículos!"
      ],
      "metadata": {
        "id": "FQpevcbxkKsw"
      }
    },
    {
      "cell_type": "markdown",
      "source": [
        "## Instalações, importações e requisições necessárias para a execução correta do programa."
      ],
      "metadata": {
        "id": "-BZAHlbP3I_A"
      }
    },
    {
      "cell_type": "code",
      "execution_count": 20,
      "metadata": {
        "colab": {
          "base_uri": "https://localhost:8080/"
        },
        "collapsed": true,
        "id": "XCbw-BiDbSVj",
        "outputId": "a3c2100c-92b8-4f7b-ba3b-cc9453e9a014"
      },
      "outputs": [
        {
          "output_type": "stream",
          "name": "stdout",
          "text": [
            "Requirement already satisfied: PyPDF2 in /usr/local/lib/python3.11/dist-packages (3.0.1)\n"
          ]
        }
      ],
      "source": [
        "%pip -q install google-generativeai\n",
        "%pip -q install google-adk\n",
        "!pip install PyPDF2\n",
        "\n",
        "import os\n",
        "from google.colab import files, userdata\n",
        "import PyPDF2\n",
        "from google import genai\n",
        "from IPython.display import display, Markdown\n",
        "from google.adk.agents import Agent\n",
        "from google.adk.runners import Runner\n",
        "from google.adk.sessions import InMemorySessionService\n",
        "from google.adk.tools import google_search\n",
        "from google.genai import types\n",
        "from datetime import date\n",
        "import textwrap\n",
        "\n",
        "os.environ[\"GOOGLE_API_KEY\"] = userdata.get(\"GOOGLE_API_KEY\")"
      ]
    },
    {
      "cell_type": "markdown",
      "source": [
        "Conexão agente - parâmetro"
      ],
      "metadata": {
        "id": "bHbyTyFm4Kgg"
      }
    },
    {
      "cell_type": "code",
      "source": [
        "def call_agent(agent: Agent, message_text: str) -> str:\n",
        "    session_service = InMemorySessionService()\n",
        "    session = session_service.create_session(app_name=agent.name, user_id=\"user1\", session_id=\"session1\")\n",
        "    runner = Runner(agent=agent, app_name=agent.name, session_service=session_service)\n",
        "    content = types.Content(role=\"user\", parts=[types.Part(text=message_text)])\n",
        "    final_response = \"\"\n",
        "    for event in runner.run(user_id=\"user1\", session_id=\"session1\", new_message=content):\n",
        "        if event.is_final_response():\n",
        "            for part in event.content.parts:\n",
        "                if part.text:\n",
        "                    final_response += part.text + \"\\n\"\n",
        "    return final_response.strip()\n"
      ],
      "metadata": {
        "id": "rVMBG0vgkwte"
      },
      "execution_count": 21,
      "outputs": []
    },
    {
      "cell_type": "code",
      "source": [
        "def to_markdown(text):\n",
        "    text = text.replace('•', '  *')\n",
        "    return Markdown(textwrap.indent(text, '> ', predicate=lambda _: True))"
      ],
      "metadata": {
        "id": "kEV_DxShyoAw"
      },
      "execution_count": 22,
      "outputs": []
    },
    {
      "cell_type": "markdown",
      "source": [
        "Definições dos agentes e suas respectivas *características*"
      ],
      "metadata": {
        "id": "by7ytVb94Pg4"
      }
    },
    {
      "cell_type": "code",
      "source": [
        "def agente_avaliador(curriculo_extraido: str):\n",
        "    avaliador = Agent(\n",
        "        name=\"agente_avaliador\",\n",
        "        model=\"gemini-2.0-flash\",\n",
        "        instruction=\"\"\"\n",
        "        Você é um avaliador de currículos experiente, um especialista na área de recursos humanos. Avalie o conteúdo a seguir:\n",
        "        Mantenha-se centrado nos pontos abaixo:\n",
        "        1. Destaque pontos fortes.\n",
        "        2. Aponte áreas de melhoria.\n",
        "        3. Seja objetivo e profissional.\n",
        "        \"\"\",\n",
        "        description=\"Agente que avalia currículos criticamente.\"\n",
        "    )\n",
        "    entrada = f\"Currículo:\\n{curriculo_extraido}\"\n",
        "    return call_agent(avaliador, entrada)"
      ],
      "metadata": {
        "id": "toDUDzVfyqTn"
      },
      "execution_count": 29,
      "outputs": []
    },
    {
      "cell_type": "code",
      "source": [
        "def agente_otimizador(curriculo_extraido: str):\n",
        "    otimizador = Agent(\n",
        "        name=\"agente_otimizador\",\n",
        "        model=\"gemini-2.0-flash\",\n",
        "        instruction=\"\"\"\n",
        "        Você é um especialista em revisão de currículos. Melhore a clareza, objetividade e impacto do conteúdo abaixo.\n",
        "        Corrija erros gramaticais e melhore a linguagem profissional.\n",
        "        \"\"\",\n",
        "        description=\"Agente otimizador de currículo\"\n",
        "    )\n",
        "    entrada = f\"Currículo:\\n{curriculo_extraido}\"\n",
        "    return call_agent(otimizador, entrada)"
      ],
      "metadata": {
        "id": "VQo5Wx2hytMf"
      },
      "execution_count": 24,
      "outputs": []
    },
    {
      "cell_type": "code",
      "source": [
        "def agente_carta(curriculo_otimizado: str):\n",
        "    redator = Agent(\n",
        "        name=\"agente_carta\",\n",
        "        model=\"gemini-2.0-flash\",\n",
        "        instruction=\"\"\"\n",
        "        Você é um redator especializado em cartas de apresentação. Escreva uma carta em português profissional\n",
        "        com base no currículo abaixo, destacando os pontos fortes do candidato.\n",
        "        \"\"\",\n",
        "        description=\"Agente que gera carta de apresentação\"\n",
        "    )\n",
        "    entrada = f\"Currículo:\\n{curriculo_otimizado}\"\n",
        "    return call_agent(redator, entrada)"
      ],
      "metadata": {
        "id": "lJ9FOI2uywG3"
      },
      "execution_count": 25,
      "outputs": []
    },
    {
      "cell_type": "code",
      "source": [
        "def agente_recomendador(curriculo_otimizado: str):\n",
        "    recomendador = Agent(\n",
        "        name=\"agente_recomendador\",\n",
        "        model=\"gemini-2.0-flash\",\n",
        "        instruction=\"\"\"\n",
        "        Você é um mentor de carreira. Com base no currículo abaixo, recomende os próximos passos para o desenvolvimento profissional:\n",
        "        - Habilidades a desenvolver\n",
        "        - Ferramentas para aprender\n",
        "        - Tipos de projeto para praticar\n",
        "        - Recursos úteis (cursos, livros, etc)\n",
        "        \"\"\",\n",
        "        description=\"Agente de carreira para próximos passos\"\n",
        "    )\n",
        "    entrada = f\"Currículo:\\n{curriculo_otimizado}\"\n",
        "    return call_agent(recomendador, entrada)"
      ],
      "metadata": {
        "id": "AbOP3RPRy0O_"
      },
      "execution_count": 26,
      "outputs": []
    },
    {
      "cell_type": "markdown",
      "source": [
        "Execução principal"
      ],
      "metadata": {
        "id": "nbsaNEZl4ZaA"
      }
    },
    {
      "cell_type": "code",
      "source": [
        "uploaded = files.upload()\n",
        "file_name = list(uploaded.keys())[0]\n",
        "pdf = open(file_name, 'rb')\n",
        "reader = PyPDF2.PdfReader(pdf)\n",
        "curriculo_extraido = \"\\n\".join([page.extract_text() for page in reader.pages])\n",
        "pdf.close()\n",
        "\n",
        "print(\"🚀 Iniciando análise com os agentes da VerificAI...\\n\")\n",
        "\n",
        "avaliacao = agente_avaliador(curriculo_extraido)\n",
        "display(Markdown(\"## 📊 Avaliação Crítica\"))\n",
        "display(to_markdown(avaliacao))\n",
        "\n",
        "otimizado = agente_otimizador(curriculo_extraido)\n",
        "display(Markdown(\"## 📄 Currículo Otimizado\"))\n",
        "display(to_markdown(otimizado))\n",
        "\n",
        "carta = agente_carta(otimizado)\n",
        "display(Markdown(\"## ✉️ Carta de Apresentação\"))\n",
        "display(to_markdown(carta))\n",
        "\n",
        "recomendacoes = agente_recomendador(otimizado)\n",
        "display(Markdown(\"## 🧭 Próximos Passos\"))\n",
        "display(to_markdown(recomendacoes))\n",
        "\n",
        "print(\"\\n✅ Análise finalizada com sucesso!\")\n"
      ],
      "metadata": {
        "colab": {
          "base_uri": "https://localhost:8080/",
          "height": 1000
        },
        "id": "-ns5EHpPy2n_",
        "outputId": "93d391f2-8dd4-45e4-f5e4-b9e1e863e0b0"
      },
      "execution_count": 31,
      "outputs": [
        {
          "output_type": "display_data",
          "data": {
            "text/plain": [
              "<IPython.core.display.HTML object>"
            ],
            "text/html": [
              "\n",
              "     <input type=\"file\" id=\"files-419df53c-7c6a-4395-9a39-68c6c3317729\" name=\"files[]\" multiple disabled\n",
              "        style=\"border:none\" />\n",
              "     <output id=\"result-419df53c-7c6a-4395-9a39-68c6c3317729\">\n",
              "      Upload widget is only available when the cell has been executed in the\n",
              "      current browser session. Please rerun this cell to enable.\n",
              "      </output>\n",
              "      <script>// Copyright 2017 Google LLC\n",
              "//\n",
              "// Licensed under the Apache License, Version 2.0 (the \"License\");\n",
              "// you may not use this file except in compliance with the License.\n",
              "// You may obtain a copy of the License at\n",
              "//\n",
              "//      http://www.apache.org/licenses/LICENSE-2.0\n",
              "//\n",
              "// Unless required by applicable law or agreed to in writing, software\n",
              "// distributed under the License is distributed on an \"AS IS\" BASIS,\n",
              "// WITHOUT WARRANTIES OR CONDITIONS OF ANY KIND, either express or implied.\n",
              "// See the License for the specific language governing permissions and\n",
              "// limitations under the License.\n",
              "\n",
              "/**\n",
              " * @fileoverview Helpers for google.colab Python module.\n",
              " */\n",
              "(function(scope) {\n",
              "function span(text, styleAttributes = {}) {\n",
              "  const element = document.createElement('span');\n",
              "  element.textContent = text;\n",
              "  for (const key of Object.keys(styleAttributes)) {\n",
              "    element.style[key] = styleAttributes[key];\n",
              "  }\n",
              "  return element;\n",
              "}\n",
              "\n",
              "// Max number of bytes which will be uploaded at a time.\n",
              "const MAX_PAYLOAD_SIZE = 100 * 1024;\n",
              "\n",
              "function _uploadFiles(inputId, outputId) {\n",
              "  const steps = uploadFilesStep(inputId, outputId);\n",
              "  const outputElement = document.getElementById(outputId);\n",
              "  // Cache steps on the outputElement to make it available for the next call\n",
              "  // to uploadFilesContinue from Python.\n",
              "  outputElement.steps = steps;\n",
              "\n",
              "  return _uploadFilesContinue(outputId);\n",
              "}\n",
              "\n",
              "// This is roughly an async generator (not supported in the browser yet),\n",
              "// where there are multiple asynchronous steps and the Python side is going\n",
              "// to poll for completion of each step.\n",
              "// This uses a Promise to block the python side on completion of each step,\n",
              "// then passes the result of the previous step as the input to the next step.\n",
              "function _uploadFilesContinue(outputId) {\n",
              "  const outputElement = document.getElementById(outputId);\n",
              "  const steps = outputElement.steps;\n",
              "\n",
              "  const next = steps.next(outputElement.lastPromiseValue);\n",
              "  return Promise.resolve(next.value.promise).then((value) => {\n",
              "    // Cache the last promise value to make it available to the next\n",
              "    // step of the generator.\n",
              "    outputElement.lastPromiseValue = value;\n",
              "    return next.value.response;\n",
              "  });\n",
              "}\n",
              "\n",
              "/**\n",
              " * Generator function which is called between each async step of the upload\n",
              " * process.\n",
              " * @param {string} inputId Element ID of the input file picker element.\n",
              " * @param {string} outputId Element ID of the output display.\n",
              " * @return {!Iterable<!Object>} Iterable of next steps.\n",
              " */\n",
              "function* uploadFilesStep(inputId, outputId) {\n",
              "  const inputElement = document.getElementById(inputId);\n",
              "  inputElement.disabled = false;\n",
              "\n",
              "  const outputElement = document.getElementById(outputId);\n",
              "  outputElement.innerHTML = '';\n",
              "\n",
              "  const pickedPromise = new Promise((resolve) => {\n",
              "    inputElement.addEventListener('change', (e) => {\n",
              "      resolve(e.target.files);\n",
              "    });\n",
              "  });\n",
              "\n",
              "  const cancel = document.createElement('button');\n",
              "  inputElement.parentElement.appendChild(cancel);\n",
              "  cancel.textContent = 'Cancel upload';\n",
              "  const cancelPromise = new Promise((resolve) => {\n",
              "    cancel.onclick = () => {\n",
              "      resolve(null);\n",
              "    };\n",
              "  });\n",
              "\n",
              "  // Wait for the user to pick the files.\n",
              "  const files = yield {\n",
              "    promise: Promise.race([pickedPromise, cancelPromise]),\n",
              "    response: {\n",
              "      action: 'starting',\n",
              "    }\n",
              "  };\n",
              "\n",
              "  cancel.remove();\n",
              "\n",
              "  // Disable the input element since further picks are not allowed.\n",
              "  inputElement.disabled = true;\n",
              "\n",
              "  if (!files) {\n",
              "    return {\n",
              "      response: {\n",
              "        action: 'complete',\n",
              "      }\n",
              "    };\n",
              "  }\n",
              "\n",
              "  for (const file of files) {\n",
              "    const li = document.createElement('li');\n",
              "    li.append(span(file.name, {fontWeight: 'bold'}));\n",
              "    li.append(span(\n",
              "        `(${file.type || 'n/a'}) - ${file.size} bytes, ` +\n",
              "        `last modified: ${\n",
              "            file.lastModifiedDate ? file.lastModifiedDate.toLocaleDateString() :\n",
              "                                    'n/a'} - `));\n",
              "    const percent = span('0% done');\n",
              "    li.appendChild(percent);\n",
              "\n",
              "    outputElement.appendChild(li);\n",
              "\n",
              "    const fileDataPromise = new Promise((resolve) => {\n",
              "      const reader = new FileReader();\n",
              "      reader.onload = (e) => {\n",
              "        resolve(e.target.result);\n",
              "      };\n",
              "      reader.readAsArrayBuffer(file);\n",
              "    });\n",
              "    // Wait for the data to be ready.\n",
              "    let fileData = yield {\n",
              "      promise: fileDataPromise,\n",
              "      response: {\n",
              "        action: 'continue',\n",
              "      }\n",
              "    };\n",
              "\n",
              "    // Use a chunked sending to avoid message size limits. See b/62115660.\n",
              "    let position = 0;\n",
              "    do {\n",
              "      const length = Math.min(fileData.byteLength - position, MAX_PAYLOAD_SIZE);\n",
              "      const chunk = new Uint8Array(fileData, position, length);\n",
              "      position += length;\n",
              "\n",
              "      const base64 = btoa(String.fromCharCode.apply(null, chunk));\n",
              "      yield {\n",
              "        response: {\n",
              "          action: 'append',\n",
              "          file: file.name,\n",
              "          data: base64,\n",
              "        },\n",
              "      };\n",
              "\n",
              "      let percentDone = fileData.byteLength === 0 ?\n",
              "          100 :\n",
              "          Math.round((position / fileData.byteLength) * 100);\n",
              "      percent.textContent = `${percentDone}% done`;\n",
              "\n",
              "    } while (position < fileData.byteLength);\n",
              "  }\n",
              "\n",
              "  // All done.\n",
              "  yield {\n",
              "    response: {\n",
              "      action: 'complete',\n",
              "    }\n",
              "  };\n",
              "}\n",
              "\n",
              "scope.google = scope.google || {};\n",
              "scope.google.colab = scope.google.colab || {};\n",
              "scope.google.colab._files = {\n",
              "  _uploadFiles,\n",
              "  _uploadFilesContinue,\n",
              "};\n",
              "})(self);\n",
              "</script> "
            ]
          },
          "metadata": {}
        },
        {
          "output_type": "stream",
          "name": "stdout",
          "text": [
            "Saving MuriloSantos (2).pdf to MuriloSantos (2) (4).pdf\n",
            "🚀 Iniciando análise com os agentes da VerificAI...\n",
            "\n"
          ]
        },
        {
          "output_type": "display_data",
          "data": {
            "text/plain": [
              "<IPython.core.display.Markdown object>"
            ],
            "text/markdown": "## 📊 Avaliação Crítica"
          },
          "metadata": {}
        },
        {
          "output_type": "display_data",
          "data": {
            "text/plain": [
              "<IPython.core.display.Markdown object>"
            ],
            "text/markdown": "> ## Avaliação do Currículo de Murilo Santos\n> \n> **Pontos Fortes:**\n> \n> *   **Objetivo Profissional:** O objetivo é claro e conciso, demonstrando foco no aprendizado e contribuição proativa.\n> *   **Formação Acadêmica:** A formação em Análise e Desenvolvimento de Sistemas (FATEC e ETEC) é relevante para a área.\n> *   **Habilidades Técnicas:** Demonstra conhecimento em diversas linguagens de programação (C#, JavaScript, Python, Java, SQL) e tecnologias (.NET, React).\n> *   **Atividades Extracurriculares:** Experiência como voluntário demonstra proatividade, responsabilidade e habilidades de trabalho em equipe. A experiência na Igreja, com gerenciamento de dados e suporte a projetos, é valiosa.\n> *   **Certificações:** As certificações CISCO, DIO e Alura indicam busca por aprimoramento constante e interesse em se manter atualizado com as tecnologias.\n> *   **Soft Skills:** A lista de soft skills (Resiliência, Diligência, Interesse, Empatia) é relevante para o mercado de trabalho.\n> *   **GitHub:** A inclusão do link para o GitHub permite que os recrutadores avaliem seus projetos e habilidades práticas.\n> \n> **Áreas de Melhoria:**\n> \n> *   **Formatação:** A formatação do currículo pode ser aprimorada para facilitar a leitura e destacar informações importantes.\n> *   **Atividades Extracurriculares:** Detalhe mais as atividades voluntárias, quantificando resultados e destacando habilidades desenvolvidas.\n> *   **Habilidades:**\n>     *   **Nível de Inglês:** Seja mais específico sobre o nível de inglês (ex: leitura, escrita, conversação).\n>     *   **Organização:** Agrupe as habilidades por categoria (ex: Linguagens de Programação, Ferramentas, Banco de Dados).\n> *   **Experiência:** Considere incluir projetos pessoais relevantes ou projetos acadêmicos que demonstrem suas habilidades técnicas.\n> *   **Objetivo:** Adapte o objetivo profissional para cada vaga específica, destacando as habilidades e experiências mais relevantes para a oportunidade.\n> *   **Informações de Contato:** Verifique se as informações de contato estão corretas e atualizadas.\n> *   **Revisão:** Revise o currículo cuidadosamente para evitar erros de gramática e ortografia.\n> \n> **Recomendações:**\n> \n> *   **Estrutura:** Organize o currículo em seções claras e concisas (ex: Informações Pessoais, Objetivo, Formação Acadêmica, Experiência, Habilidades, Certificações, Atividades Extracurriculares).\n> *   **Palavras-chave:** Utilize palavras-chave relevantes para a área de atuação, com base nas descrições de vagas e nas tecnologias mais utilizadas no mercado.\n> *   **Resultados:** Sempre que possível, quantifique seus resultados e conquistas em projetos e atividades.\n> *   **Customização:** Adapte o currículo para cada vaga específica, destacando as habilidades e experiências mais relevantes para a oportunidade.\n> *   **Portfólio:** Mantenha o GitHub atualizado com projetos relevantes e bem documentados.\n> *   **Carta de Apresentação:** Considere incluir uma carta de apresentação personalizada para cada vaga, destacando seu interesse na empresa e suas qualificações mais relevantes."
          },
          "metadata": {}
        },
        {
          "output_type": "display_data",
          "data": {
            "text/plain": [
              "<IPython.core.display.Markdown object>"
            ],
            "text/markdown": "## 📄 Currículo Otimizado"
          },
          "metadata": {}
        },
        {
          "output_type": "display_data",
          "data": {
            "text/plain": [
              "<IPython.core.display.Markdown object>"
            ],
            "text/markdown": "> **MURILO SANTOS**\n> (19) 99900-1103 | murilosantosfvg@gmail.com | R. Carlos Roberto Ianses, 191 - Vinhedo, SP\n> \n> **OBJETIVO**\n> \n> Estudante de Análise e Desenvolvimento de Sistemas em busca de estágio para aplicar e aprimorar habilidades técnicas. Entusiasmado em contribuir proativamente em projetos desafiadores, consolidando conhecimentos e impulsionando o crescimento na área de tecnologia.\n> \n> **FORMAÇÃO ACADÊMICA**\n> \n> *   **Tecnólogo em Análise e Desenvolvimento de Sistemas**\n>     FATEC Campinas | 2023 - Cursando\n> *   **Técnico em Informática para Internet**\n>     ETEC Vasco Antônio Venchiarutti | 2020 - 2022\n> \n> **EXPERIÊNCIA VOLUNTÁRIA**\n> \n> *   **Voluntário | Nanna Salgados** | 2023 - Dez/2024\n>     *   Criação de artes visuais para campanhas de marketing.\n>     *   Gerenciamento de campanhas de tráfego pago.\n> *   **Staff Voluntário | Igreja** | 2022 – Presente\n>     *   Recepção e integração de jovens.\n>     *   Gerenciamento de planilhas de dados e informações.\n>     *   Suporte na organização de projetos e eventos.\n>     *   Participação em treinamento de liderança.\n> \n> **HABILIDADES TÉCNICAS**\n> \n> *   **Linguagens de Programação:** C# (.NET), JavaScript (React), Python, Java, SQL\n> *   **Idiomas:** Português (Fluente), Inglês (Intermediário)\n> \n> **CERTIFICAÇÕES**\n> \n> *   Oracle Java Foundations | Janeiro de 2025\n> *   Java e a arte da abstração - Dio | Fevereiro de 2025\n> *   9° Imersão Dev - Alura | Abril de 2025\n> *   Hardware Basics - CISCO | Maio de 2024\n> *   Introdução ao .NET - DIO | Outubro de 2024\n> *   Versionamento Git - DIO | Outubro de 2024\n> \n> **SOFT SKILLS**\n> \n> *   Resiliência\n> *   Diligência\n> *   Curiosidade\n> *   Empatia\n> \n> **LINKS ÚTEIS**\n> \n> *   **GitHub:** [https://github.com/MiragemS](https://github.com/MiragemS)"
          },
          "metadata": {}
        },
        {
          "output_type": "display_data",
          "data": {
            "text/plain": [
              "<IPython.core.display.Markdown object>"
            ],
            "text/markdown": "## ✉️ Carta de Apresentação"
          },
          "metadata": {}
        },
        {
          "output_type": "display_data",
          "data": {
            "text/plain": [
              "<IPython.core.display.Markdown object>"
            ],
            "text/markdown": "> [Seu Nome]\n> [Seu Endereço]\n> [Seu Telefone]\n> [Seu Email]\n> \n> [Data]\n> \n> [Nome do Contratante/Recursos Humanos]\n> [Título do Contratante]\n> [Nome da Empresa]\n> [Endereço da Empresa]\n> \n> **Assunto: Candidatura para Estágio em Análise e Desenvolvimento de Sistemas**\n> \n> Prezado(a) [Nome do Contratante/Recursos Humanos],\n> \n> Escrevo para expressar meu grande interesse na oportunidade de estágio em Análise e Desenvolvimento de Sistemas em [Nome da Empresa]. Como estudante do curso de Tecnólogo em Análise e Desenvolvimento de Sistemas na FATEC Campinas, estou ansioso para aplicar meus conhecimentos técnicos e contribuir ativamente para projetos desafiadores em sua empresa.\n> \n> Minha formação como Técnico em Informática para Internet na ETEC Vasco Antônio Venchiarutti, aliada ao meu aprendizado contínuo na FATEC, me proporcionou uma base sólida em diversas linguagens de programação, incluindo C# (.NET), JavaScript (React), Python, Java e SQL. Além disso, possuo um bom nível de inglês, o que me permite acompanhar as últimas tendências e tecnologias da área.\n> \n> Durante minha experiência como voluntário na Nanna Salgados, desenvolvi habilidades em criação de artes visuais e gerenciamento de campanhas de tráfego pago, demonstrando minha capacidade de aplicar meus conhecimentos técnicos em um contexto prático e de gerar resultados. Minha atuação como staff voluntário em minha igreja, onde gerencio planilhas de dados, organizo projetos e eventos, e participo de treinamento de liderança, reforça minha organização, proatividade e capacidade de trabalhar em equipe.\n> \n> As certificações que obtive, como Oracle Java Foundations, Java e a arte da abstração (Dio), 9° Imersão Dev (Alura), Hardware Basics (CISCO), Introdução ao .NET (DIO) e Versionamento Git (DIO), atestam meu comprometimento com o aprendizado contínuo e o aprimoramento de minhas habilidades.\n> \n> Sou um profissional resiliente, diligente, curioso e empático, sempre buscando aprender e me desenvolver. Acredito que minhas habilidades técnicas, experiência em projetos e soft skills me tornam um candidato ideal para contribuir de forma significativa para sua equipe.\n> \n> Convido você a visitar meu GitHub ([https://github.com/MiragemS](https://github.com/MiragemS)) para conhecer alguns dos meus projetos.\n> \n> Agradeço a sua atenção e tempo dedicado à minha candidatura. Ficarei muito feliz em discutir minhas qualificações em mais detalhes durante uma entrevista.\n> \n> Atenciosamente,\n> \n> Murilo Santos"
          },
          "metadata": {}
        },
        {
          "output_type": "display_data",
          "data": {
            "text/plain": [
              "<IPython.core.display.Markdown object>"
            ],
            "text/markdown": "## 🧭 Próximos Passos"
          },
          "metadata": {}
        },
        {
          "output_type": "display_data",
          "data": {
            "text/plain": [
              "<IPython.core.display.Markdown object>"
            ],
            "text/markdown": "> Murilo, seu currículo demonstra uma base sólida e um bom começo na área de tecnologia. Para te ajudar a dar os próximos passos na sua carreira, aqui estão algumas recomendações focadas no seu desenvolvimento profissional:\n> \n> **Habilidades a Desenvolver:**\n> \n> 1.  **Profundidade em Front-end:** Apesar de mencionar React, aprofunde-se em HTML, CSS e JavaScript (ES6+). Isso te dará mais controle e flexibilidade no desenvolvimento de interfaces.\n> 2.  **Back-end com .NET:** Já que você tem conhecimento em C# e .NET, foque em aprender ASP.NET Core para criar APIs RESTful.\n> 3.  **Banco de Dados:** Vá além do SQL básico. Explore modelagem de dados, otimização de queries e diferentes tipos de bancos de dados (relacionais e NoSQL).\n> 4.  **Testes:** Aprenda sobre testes unitários, testes de integração e testes end-to-end. Testes garantem a qualidade do código e facilitam a manutenção.\n> 5.  **Cloud Computing:** Familiarize-se com plataformas como AWS, Azure ou Google Cloud. Aprenda sobre serviços de computação, armazenamento e deployment.\n> \n> **Ferramentas para Aprender:**\n> \n> *   **Frameworks/Bibliotecas:**\n>     *   **React Avançado:** Redux/Context API para gerenciamento de estado, Styled Components/Material UI para estilização.\n>     *   **ASP.NET Core:** Entity Framework Core para ORM, Identity para autenticação e autorização.\n> *   **Ferramentas de Desenvolvimento:**\n>     *   **Visual Studio/VS Code:** Editores de código poderosos com muitos recursos e extensões.\n>     *   **Docker:** Para conteinerização e ambientes de desenvolvimento consistentes.\n>     *   **Postman/Insomnia:** Para testar APIs.\n> *   **Ferramentas de CI/CD:**\n>     *   **GitHub Actions:** Para automatizar builds, testes e deployments.\n>     *   **Jenkins:** Uma ferramenta de automação open-source popular.\n> \n> **Tipos de Projeto para Praticar:**\n> \n> 1.  **Clone de Interfaces Populares:**\n>     *   Escolha um site ou app popular (ex: Twitter, Instagram) e tente replicar a interface usando React e Styled Components.\n> 2.  **API RESTful com .NET:**\n>     *   Crie uma API para um sistema de gerenciamento de tarefas (To-Do List) ou um catálogo de produtos.\n> 3.  **Aplicativo Full-Stack:**\n>     *   Combine o front-end (React) e o back-end (.NET) para criar um aplicativo completo.\n>     *   Exemplo: Um sistema de gerenciamento de biblioteca com autenticação, listagem de livros, cadastro de novos livros, etc.\n> 4.  **Projetos Open Source:**\n>     *   Contribua para projetos open source no GitHub. Isso te dará experiência em trabalhar em equipe e lidar com código de outras pessoas.\n> \n> **Recursos Úteis:**\n> \n> *   **Cursos Online:**\n>     *   **Alura:** Cursos completos de front-end, back-end e cloud.\n>     *   **Udemy:** Grande variedade de cursos com preços acessíveis.\n>     *   **Coursera/edX:** Cursos de universidades e empresas renomadas.\n>     *   **Rocketseat:** Foco em JavaScript, React e Node.js.\n>     *   **Microsoft Learn:** Conteúdo oficial da Microsoft sobre .NET e Azure.\n> *   **Livros:**\n>     *   **\"Clean Code\"** de Robert C. Martin: Boas práticas de programação.\n>     *   **\"Design Patterns\"** de Erich Gamma et al.: Padrões de projeto para resolver problemas comuns.\n>     *   **\"Refactoring\"** de Martin Fowler: Técnicas para melhorar o código existente.\n> *   **Comunidades:**\n>     *   **Stack Overflow:** Para tirar dúvidas e encontrar soluções.\n>     *   **Meetups:** Participe de eventos locais para conhecer outros desenvolvedores.\n>     *   **Grupos no Telegram/Discord:** Troque ideias e receba ajuda da comunidade.\n> *   **Documentação:**\n>     *   **MDN Web Docs:** Referência completa de HTML, CSS e JavaScript.\n>     *   **Documentação do React:** Aprenda sobre os recursos e APIs do React.\n>     *   **Documentação do .NET:** Guia completo da plataforma .NET.\n> \n> **Próximos Passos:**\n> \n> 1.  **Defina um Plano de Estudos:**\n>     *   Escolha uma ou duas áreas para focar (ex: front-end e .NET).\n>     *   Crie um cronograma de estudos com metas semanais.\n> 2.  **Crie um Portfólio:**\n>     *   Adicione seus projetos no GitHub.\n>     *   Crie um site pessoal para mostrar seus projetos e habilidades.\n> 3.  **Networking:**\n>     *   Participe de eventos da área.\n>     *   Conecte-se com outros desenvolvedores no LinkedIn.\n> 4.  **Procure Oportunidades de Estágio:**\n>     *   Atualize seu currículo com as novas habilidades e projetos.\n>     *   Candidate-se para vagas de estágio em empresas que utilizam as tecnologias que você está aprendendo.\n>     *   Prepare-se para entrevistas técnicas.\n> \n> Lembre-se que o aprendizado é contínuo. Mantenha-se atualizado com as novidades da área e continue praticando. Com dedicação e foco, você alcançará seus objetivos!"
          },
          "metadata": {}
        },
        {
          "output_type": "stream",
          "name": "stdout",
          "text": [
            "\n",
            "✅ Análise finalizada com sucesso!\n"
          ]
        }
      ]
    }
  ]
}